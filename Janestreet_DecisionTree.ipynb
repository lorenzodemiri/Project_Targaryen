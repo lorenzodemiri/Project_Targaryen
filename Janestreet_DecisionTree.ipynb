{
 "cells": [
  {
   "cell_type": "code",
   "execution_count": 2,
   "metadata": {
    "ExecuteTime": {
     "end_time": "2021-02-18T14:31:39.403068Z",
     "start_time": "2021-02-18T14:31:37.314435Z"
    }
   },
   "outputs": [],
   "source": [
    "import pandas as pd\n",
    "import numpy as np\n",
    "import matplotlib.pyplot as plt\n",
    "import joblib \n",
    "\n",
    "from sklearn.preprocessing import StandardScaler\n",
    "from sklearn.model_selection import train_test_split\n",
    "from sklearn.tree import DecisionTreeClassifier\n",
    "from sklearn.metrics import accuracy_score"
   ]
  },
  {
   "cell_type": "code",
   "execution_count": 4,
   "metadata": {
    "ExecuteTime": {
     "end_time": "2021-02-18T14:34:15.965882Z",
     "start_time": "2021-02-18T14:32:03.207783Z"
    }
   },
   "outputs": [
    {
     "name": "stdout",
     "output_type": "stream",
     "text": [
      "CPU times: user 1min 31s, sys: 17.3 s, total: 1min 48s\n",
      "Wall time: 2min 12s\n"
     ]
    }
   ],
   "source": [
    "%%time\n",
    "features = pd.read_csv('features.csv')\n",
    "train = pd.read_csv('train.csv')"
   ]
  },
  {
   "cell_type": "code",
   "execution_count": 5,
   "metadata": {
    "ExecuteTime": {
     "end_time": "2021-02-18T14:39:39.823285Z",
     "start_time": "2021-02-18T14:35:59.717073Z"
    }
   },
   "outputs": [],
   "source": [
    "features = [f'feature_{i}' for i in range(130)]\n",
    "val_range = train[features].max()-train[features].min()\n",
    "filler = pd.Series(train[features].min()-0.01*val_range, index=features)\n",
    "\n",
    "def fill_missing(df):\n",
    "    df[features] = df[features].fillna(filler)\n",
    "    return df\n",
    "\n",
    "train2 = fill_missing(train)"
   ]
  },
  {
   "cell_type": "code",
   "execution_count": 6,
   "metadata": {
    "ExecuteTime": {
     "end_time": "2021-02-18T14:41:57.478896Z",
     "start_time": "2021-02-18T14:41:42.281858Z"
    }
   },
   "outputs": [],
   "source": [
    "train2['action'] = ((train2['resp'].values) > 0).astype(int)\n",
    "X = train2.loc[:, features]\n",
    "y = train2.iloc[:, -1]"
   ]
  },
  {
   "cell_type": "code",
   "execution_count": null,
   "metadata": {},
   "outputs": [],
   "source": [
    "train2.head()"
   ]
  },
  {
   "cell_type": "code",
   "execution_count": 7,
   "metadata": {
    "ExecuteTime": {
     "end_time": "2021-02-18T14:42:03.793463Z",
     "start_time": "2021-02-18T14:42:03.559330Z"
    }
   },
   "outputs": [
    {
     "data": {
      "text/html": [
       "<div>\n",
       "<style scoped>\n",
       "    .dataframe tbody tr th:only-of-type {\n",
       "        vertical-align: middle;\n",
       "    }\n",
       "\n",
       "    .dataframe tbody tr th {\n",
       "        vertical-align: top;\n",
       "    }\n",
       "\n",
       "    .dataframe thead th {\n",
       "        text-align: right;\n",
       "    }\n",
       "</style>\n",
       "<table border=\"1\" class=\"dataframe\">\n",
       "  <thead>\n",
       "    <tr style=\"text-align: right;\">\n",
       "      <th></th>\n",
       "      <th>feature_0</th>\n",
       "      <th>feature_1</th>\n",
       "      <th>feature_2</th>\n",
       "      <th>feature_3</th>\n",
       "      <th>feature_4</th>\n",
       "      <th>feature_5</th>\n",
       "      <th>feature_6</th>\n",
       "      <th>feature_7</th>\n",
       "      <th>feature_8</th>\n",
       "      <th>feature_9</th>\n",
       "      <th>...</th>\n",
       "      <th>feature_120</th>\n",
       "      <th>feature_121</th>\n",
       "      <th>feature_122</th>\n",
       "      <th>feature_123</th>\n",
       "      <th>feature_124</th>\n",
       "      <th>feature_125</th>\n",
       "      <th>feature_126</th>\n",
       "      <th>feature_127</th>\n",
       "      <th>feature_128</th>\n",
       "      <th>feature_129</th>\n",
       "    </tr>\n",
       "  </thead>\n",
       "  <tbody>\n",
       "    <tr>\n",
       "      <th>0</th>\n",
       "      <td>1</td>\n",
       "      <td>-1.872746</td>\n",
       "      <td>-2.191242</td>\n",
       "      <td>-0.474163</td>\n",
       "      <td>-0.323046</td>\n",
       "      <td>0.014688</td>\n",
       "      <td>-0.002484</td>\n",
       "      <td>-28.771049</td>\n",
       "      <td>-42.706857</td>\n",
       "      <td>-0.989982</td>\n",
       "      <td>...</td>\n",
       "      <td>-5.589704</td>\n",
       "      <td>-8.654461</td>\n",
       "      <td>1.168391</td>\n",
       "      <td>8.313583</td>\n",
       "      <td>1.782433</td>\n",
       "      <td>14.018213</td>\n",
       "      <td>2.653056</td>\n",
       "      <td>12.600292</td>\n",
       "      <td>2.301488</td>\n",
       "      <td>11.445807</td>\n",
       "    </tr>\n",
       "    <tr>\n",
       "      <th>1</th>\n",
       "      <td>-1</td>\n",
       "      <td>-1.349537</td>\n",
       "      <td>-1.704709</td>\n",
       "      <td>0.068058</td>\n",
       "      <td>0.028432</td>\n",
       "      <td>0.193794</td>\n",
       "      <td>0.138212</td>\n",
       "      <td>-28.771049</td>\n",
       "      <td>-42.706857</td>\n",
       "      <td>-0.151877</td>\n",
       "      <td>...</td>\n",
       "      <td>-5.589704</td>\n",
       "      <td>-8.654461</td>\n",
       "      <td>-1.178850</td>\n",
       "      <td>1.777472</td>\n",
       "      <td>-0.915458</td>\n",
       "      <td>2.831612</td>\n",
       "      <td>-1.417010</td>\n",
       "      <td>2.297459</td>\n",
       "      <td>-1.304614</td>\n",
       "      <td>1.898684</td>\n",
       "    </tr>\n",
       "    <tr>\n",
       "      <th>2</th>\n",
       "      <td>-1</td>\n",
       "      <td>0.812780</td>\n",
       "      <td>-0.256156</td>\n",
       "      <td>0.806463</td>\n",
       "      <td>0.400221</td>\n",
       "      <td>-0.614188</td>\n",
       "      <td>-0.354800</td>\n",
       "      <td>-28.771049</td>\n",
       "      <td>-42.706857</td>\n",
       "      <td>5.448261</td>\n",
       "      <td>...</td>\n",
       "      <td>-5.589704</td>\n",
       "      <td>-8.654461</td>\n",
       "      <td>6.115747</td>\n",
       "      <td>9.667908</td>\n",
       "      <td>5.542871</td>\n",
       "      <td>11.671595</td>\n",
       "      <td>7.281757</td>\n",
       "      <td>10.060014</td>\n",
       "      <td>6.638248</td>\n",
       "      <td>9.427299</td>\n",
       "    </tr>\n",
       "    <tr>\n",
       "      <th>3</th>\n",
       "      <td>-1</td>\n",
       "      <td>1.174378</td>\n",
       "      <td>0.344640</td>\n",
       "      <td>0.066872</td>\n",
       "      <td>0.009357</td>\n",
       "      <td>-1.006373</td>\n",
       "      <td>-0.676458</td>\n",
       "      <td>-28.771049</td>\n",
       "      <td>-42.706857</td>\n",
       "      <td>4.508206</td>\n",
       "      <td>...</td>\n",
       "      <td>-5.589704</td>\n",
       "      <td>-8.654461</td>\n",
       "      <td>2.838853</td>\n",
       "      <td>0.499251</td>\n",
       "      <td>3.033732</td>\n",
       "      <td>1.513488</td>\n",
       "      <td>4.397532</td>\n",
       "      <td>1.266037</td>\n",
       "      <td>3.856384</td>\n",
       "      <td>1.013469</td>\n",
       "    </tr>\n",
       "    <tr>\n",
       "      <th>4</th>\n",
       "      <td>1</td>\n",
       "      <td>-3.172026</td>\n",
       "      <td>-3.093182</td>\n",
       "      <td>-0.161518</td>\n",
       "      <td>-0.128149</td>\n",
       "      <td>-0.195006</td>\n",
       "      <td>-0.143780</td>\n",
       "      <td>-28.771049</td>\n",
       "      <td>-42.706857</td>\n",
       "      <td>2.683018</td>\n",
       "      <td>...</td>\n",
       "      <td>-5.589704</td>\n",
       "      <td>-8.654461</td>\n",
       "      <td>0.344850</td>\n",
       "      <td>4.101145</td>\n",
       "      <td>0.614252</td>\n",
       "      <td>6.623456</td>\n",
       "      <td>0.800129</td>\n",
       "      <td>5.233243</td>\n",
       "      <td>0.362636</td>\n",
       "      <td>3.926633</td>\n",
       "    </tr>\n",
       "  </tbody>\n",
       "</table>\n",
       "<p>5 rows × 130 columns</p>\n",
       "</div>"
      ],
      "text/plain": [
       "   feature_0  feature_1  feature_2  feature_3  feature_4  feature_5  \\\n",
       "0          1  -1.872746  -2.191242  -0.474163  -0.323046   0.014688   \n",
       "1         -1  -1.349537  -1.704709   0.068058   0.028432   0.193794   \n",
       "2         -1   0.812780  -0.256156   0.806463   0.400221  -0.614188   \n",
       "3         -1   1.174378   0.344640   0.066872   0.009357  -1.006373   \n",
       "4          1  -3.172026  -3.093182  -0.161518  -0.128149  -0.195006   \n",
       "\n",
       "   feature_6  feature_7  feature_8  feature_9  ...  feature_120  feature_121  \\\n",
       "0  -0.002484 -28.771049 -42.706857  -0.989982  ...    -5.589704    -8.654461   \n",
       "1   0.138212 -28.771049 -42.706857  -0.151877  ...    -5.589704    -8.654461   \n",
       "2  -0.354800 -28.771049 -42.706857   5.448261  ...    -5.589704    -8.654461   \n",
       "3  -0.676458 -28.771049 -42.706857   4.508206  ...    -5.589704    -8.654461   \n",
       "4  -0.143780 -28.771049 -42.706857   2.683018  ...    -5.589704    -8.654461   \n",
       "\n",
       "   feature_122  feature_123  feature_124  feature_125  feature_126  \\\n",
       "0     1.168391     8.313583     1.782433    14.018213     2.653056   \n",
       "1    -1.178850     1.777472    -0.915458     2.831612    -1.417010   \n",
       "2     6.115747     9.667908     5.542871    11.671595     7.281757   \n",
       "3     2.838853     0.499251     3.033732     1.513488     4.397532   \n",
       "4     0.344850     4.101145     0.614252     6.623456     0.800129   \n",
       "\n",
       "   feature_127  feature_128  feature_129  \n",
       "0    12.600292     2.301488    11.445807  \n",
       "1     2.297459    -1.304614     1.898684  \n",
       "2    10.060014     6.638248     9.427299  \n",
       "3     1.266037     3.856384     1.013469  \n",
       "4     5.233243     0.362636     3.926633  \n",
       "\n",
       "[5 rows x 130 columns]"
      ]
     },
     "execution_count": 7,
     "metadata": {},
     "output_type": "execute_result"
    }
   ],
   "source": [
    "X.head()"
   ]
  },
  {
   "cell_type": "code",
   "execution_count": 8,
   "metadata": {
    "ExecuteTime": {
     "end_time": "2021-02-18T14:52:22.257742Z",
     "start_time": "2021-02-18T14:52:22.203820Z"
    }
   },
   "outputs": [
    {
     "data": {
      "text/plain": [
       "((2390491, 130), (2390491,))"
      ]
     },
     "execution_count": 8,
     "metadata": {},
     "output_type": "execute_result"
    }
   ],
   "source": [
    "X.shape, y.shape"
   ]
  },
  {
   "cell_type": "code",
   "execution_count": 9,
   "metadata": {
    "ExecuteTime": {
     "end_time": "2021-02-18T14:53:21.189619Z",
     "start_time": "2021-02-18T14:52:53.448556Z"
    }
   },
   "outputs": [
    {
     "data": {
      "text/plain": [
       "0"
      ]
     },
     "execution_count": 9,
     "metadata": {},
     "output_type": "execute_result"
    }
   ],
   "source": [
    "train2.isnull().sum().sum()"
   ]
  },
  {
   "cell_type": "code",
   "execution_count": 10,
   "metadata": {
    "ExecuteTime": {
     "end_time": "2021-02-18T14:54:36.287553Z",
     "start_time": "2021-02-18T14:53:53.500081Z"
    }
   },
   "outputs": [],
   "source": [
    "X_train,X_test,y_train,y_test = train_test_split( X, y, test_size=0.2, random_state=777)"
   ]
  },
  {
   "cell_type": "code",
   "execution_count": 11,
   "metadata": {
    "ExecuteTime": {
     "end_time": "2021-02-18T14:59:26.313376Z",
     "start_time": "2021-02-18T14:56:40.915018Z"
    }
   },
   "outputs": [],
   "source": [
    "scaler = StandardScaler()\n",
    "X_train_std = scaler.fit_transform(X_train)\n",
    "X_test_std = scaler.fit_transform(X_test)"
   ]
  },
  {
   "cell_type": "code",
   "execution_count": 21,
   "metadata": {
    "ExecuteTime": {
     "end_time": "2021-02-18T16:03:56.438128Z",
     "start_time": "2021-02-18T15:39:23.928073Z"
    }
   },
   "outputs": [
    {
     "name": "stdout",
     "output_type": "stream",
     "text": [
      "CPU times: user 23min 35s, sys: 16.3 s, total: 23min 51s\n",
      "Wall time: 24min 32s\n"
     ]
    }
   ],
   "source": [
    "%%time\n",
    "clf = DecisionTreeClassifier(random_state=777)\n",
    "clf.fit(X_train_std, y_train)\n",
    "y_pred = clf.predict(X_test_std)"
   ]
  },
  {
   "cell_type": "code",
   "execution_count": 22,
   "metadata": {
    "ExecuteTime": {
     "end_time": "2021-02-18T16:07:01.960982Z",
     "start_time": "2021-02-18T16:07:01.865824Z"
    }
   },
   "outputs": [
    {
     "name": "stdout",
     "output_type": "stream",
     "text": [
      "0.5847993825546591\n"
     ]
    }
   ],
   "source": [
    "acc_score = accuracy_score(y_test, y_pred)\n",
    "print(acc_score)"
   ]
  },
  {
   "cell_type": "code",
   "execution_count": null,
   "metadata": {},
   "outputs": [],
   "source": []
  }
 ],
 "metadata": {
  "kernelspec": {
   "display_name": "Python 3",
   "language": "python",
   "name": "python3"
  },
  "language_info": {
   "codemirror_mode": {
    "name": "ipython",
    "version": 3
   },
   "file_extension": ".py",
   "mimetype": "text/x-python",
   "name": "python",
   "nbconvert_exporter": "python",
   "pygments_lexer": "ipython3",
   "version": "3.8.5"
  }
 },
 "nbformat": 4,
 "nbformat_minor": 4
}
